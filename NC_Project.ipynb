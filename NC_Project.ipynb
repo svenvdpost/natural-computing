{
  "nbformat": 4,
  "nbformat_minor": 0,
  "metadata": {
    "colab": {
      "provenance": [],
      "include_colab_link": true
    },
    "kernelspec": {
      "name": "python3",
      "display_name": "Python 3"
    },
    "language_info": {
      "name": "python"
    }
  },
  "cells": [
    {
      "cell_type": "markdown",
      "metadata": {
        "id": "view-in-github",
        "colab_type": "text"
      },
      "source": [
        "<a href=\"https://colab.research.google.com/github/svenvdpost/natural-computing/blob/project/NC_Project.ipynb\" target=\"_parent\"><img src=\"https://colab.research.google.com/assets/colab-badge.svg\" alt=\"Open In Colab\"/></a>"
      ]
    },
    {
      "cell_type": "code",
      "execution_count": 1,
      "metadata": {
        "id": "doc6RRahMc3w",
        "outputId": "50688e74-412d-4405-97f1-fcce2f2cd9e0",
        "colab": {
          "base_uri": "https://localhost:8080/",
          "height": 132
        }
      },
      "outputs": [
        {
          "output_type": "error",
          "ename": "SyntaxError",
          "evalue": "ignored",
          "traceback": [
            "\u001b[0;36m  File \u001b[0;32m\"<ipython-input-1-781972f9a98a>\"\u001b[0;36m, line \u001b[0;32m1\u001b[0m\n\u001b[0;31m    python -m pip install -U pygame==2.4.0 --user\u001b[0m\n\u001b[0m              ^\u001b[0m\n\u001b[0;31mSyntaxError\u001b[0m\u001b[0;31m:\u001b[0m invalid syntax\n"
          ]
        }
      ],
      "source": [
        "python -m pip install -U pygame==2.4.0 --user"
      ]
    },
    {
      "cell_type": "code",
      "source": [
        "# Working version\n",
        "import numpy as np\n",
        "%matplotlib inline\n",
        "import pylab as plt\n",
        "import matplotlib.animation as animation\n",
        "import matplotlib.patches as patches\n",
        "from IPython.display import Image\n",
        "from IPython import display\n",
        "import time\n",
        "\n",
        "class Boids:\n",
        "    def __init__(self, \n",
        "                 num_boids = 100, \n",
        "                 width = 1000, \n",
        "                 height = 1000, \n",
        "                 alignment_distance = 50, \n",
        "                 cohesion_distance = 100, \n",
        "                 separation_distance = 25, \n",
        "                 vision_distance = None,\n",
        "                 alignment_strength = 0.1, \n",
        "                 cohesion_strength = 0.001, \n",
        "                 separation_strength = 0.5, \n",
        "                 noise_strength = 0.2,\n",
        "                 max_velocity = 5):\n",
        "      \n",
        "        self.num_boids = num_boids\n",
        "        self.positions = np.random.uniform(low=[-width/2, -height/2], high=[width/2, height/2], size=(num_boids, 2))\n",
        "        self.velocities = np.random.uniform(low=[-width/2, -height/2], high=[width/2, height/2], size=(num_boids, 2))\n",
        "        self.width = width\n",
        "        self.height = height\n",
        "\n",
        "        self.alignment_distance = alignment_distance \n",
        "        self.cohesion_distance = cohesion_distance \n",
        "        self.separation_distance = separation_distance \n",
        "        self.alignment_strength = alignment_strength \n",
        "        self.cohesion_strength = cohesion_strength \n",
        "        self.separation_strength = separation_strength \n",
        "        self.noise_strength = noise_strength\n",
        "        \n",
        "        if vision_distance != None:\n",
        "            self.alignment_distance = vision_distance\n",
        "            self.cohesion_distance = vision_distance\n",
        "            self.separation_distance = vision_distance\n",
        "            self.alignment_strength = vision_distance\n",
        "            self.cohesion_strength = vision_distance\n",
        "            self.separation_strength = vision_distance\n",
        "\n",
        "\n",
        "        self.max_velocity = max_velocity \n",
        "        self.positions_over_time = [self.positions]\n",
        "        self.velocities_over_time = [self.velocities]\n",
        "\n",
        "        # Optimization        \n",
        "        self.distances = sorted([(\"alignment\", self.alignment_distance), (\"cohesion\", self.cohesion_distance), (\"separation\", self.separation_distance)], key=lambda x: x[1])\n",
        "\n",
        "    def step(self):\n",
        "\n",
        "        distances = self.get_distances()\n",
        "\n",
        "        alignment = self.alignment_rule(distances)\n",
        "        cohesion = self.cohesion_rule(distances)\n",
        "        separation = self.separation_rule(distances)\n",
        "\n",
        "        alignment_correction  = (alignment + np.random.uniform(-1,1, (self.num_boids, 2))   * self.noise_strength) * self.alignment_strength\n",
        "        cohesion_correction   = (cohesion + np.random.uniform(-1,1, (self.num_boids, 2))    * self.noise_strength) * self.cohesion_strength\n",
        "        separation_correction = (separation + np.random.uniform(-1,1, (self.num_boids, 2)) * self.noise_strength) * self.separation_strength\n",
        "\n",
        "        self.velocities += alignment_correction + cohesion_correction + separation_correction\n",
        "        self.limit_velocity()\n",
        "        self.positions = self.wrap(self.positions + self.velocities)\n",
        "        self.positions_over_time.append(self.positions.copy())\n",
        "        self.velocities_over_time.append(self.velocities.copy())\n",
        "    \n",
        "    \n",
        "    def get_distances(self):\n",
        "        return np.sqrt(np.sum((self.positions[:, np.newaxis] - self.positions) ** 2, axis=2))\n",
        "\n",
        "\n",
        "    def get_close_boids(self, rule_distance, distances):\n",
        "        return (distances < rule_distance) & (distances > 0)\n",
        "\n",
        "    def alignment_rule(self, distances):\n",
        "        close_boids = self.get_close_boids(self.alignment_distance, distances)\n",
        "        alignment = np.zeros((len(self.positions), 2))\n",
        "        for i in range(len(self.positions)):\n",
        "            neighbors = close_boids[i]\n",
        "            if any(neighbors):\n",
        "                alignment[i] = np.mean(self.velocities[neighbors], axis=0)\n",
        "        return alignment \n",
        "\n",
        "    def cohesion_rule(self, distances):\n",
        "        close_boids = self.get_close_boids(self.cohesion_distance, distances)\n",
        "        cohesion = np.zeros((len(self.positions), 2))\n",
        "        for i in range(len(self.positions)):\n",
        "            neighbors = close_boids[i]\n",
        "            if any(neighbors):\n",
        "                cohesion[i] = np.mean(self.positions[neighbors], axis=0) - self.positions[i]\n",
        "        return cohesion \n",
        "\n",
        "    def separation_rule(self, distances):\n",
        "        close_boids = self.get_close_boids(self.separation_distance, distances)\n",
        "        separation = np.zeros((len(self.positions), 2))\n",
        "        for i in range(len(self.positions)):\n",
        "            neighbors = close_boids[i]\n",
        "            if any(neighbors):\n",
        "                separation[i] = np.sum(self.positions[neighbors] - self.positions[i], axis=0)\n",
        "        return - separation \n",
        "\n",
        "    def limit_velocity(self):\n",
        "        speed = np.sqrt(np.sum(self.velocities ** 2, axis=1))\n",
        "        too_fast = speed > self.max_velocity\n",
        "        self.velocities[too_fast] = self.velocities[too_fast] / speed[too_fast, np.newaxis] * self.max_velocity\n",
        "\n",
        "    def wrap(self, positions):\n",
        "        positions[:, 0] = np.where(positions[:, 0] > self.width/2, positions[:, 0] - self.width, positions[:, 0])\n",
        "        positions[:, 0] = np.where(positions[:, 0] < -self.width/2, positions[:, 0] + self.width, positions[:, 0])\n",
        "        positions[:, 1] = np.where(positions[:, 1] > self.height/2, positions[:, 1] - self.height, positions[:, 1])\n",
        "        positions[:, 1] = np.where(positions[:, 1] < -self.height/2, positions[:, 1] + self.height, positions[:, 1])\n",
        "        return positions\n",
        "\n",
        "    def run_simulation(self, num_steps):\n",
        "        for i in range(num_steps):\n",
        "            self.step()\n",
        "        return self.positions_over_time, self.velocities_over_time\n"
      ],
      "metadata": {
        "id": "d73unT2EOaJw"
      },
      "execution_count": null,
      "outputs": []
    },
    {
      "cell_type": "code",
      "source": [
        "import pygame\n",
        "from IPython.display import Image, display\n",
        "\n",
        "pygame.init()\n",
        "pygame.display.init()\n",
        "print(pygame.display.list_modes())\n",
        "screen = pygame.display.set_mode((400, 400))\n",
        "running = True\n",
        "\n",
        "while running:\n",
        "    for event in pygame.event.get():\n",
        "        if event.type == pygame.QUIT:\n",
        "            running = False\n",
        "\n",
        "pygame.display.flip()\n",
        "pygame.image.save(screen, 'frame.png')\n",
        "display(Image(filename='frame.png'))\n",
        "\n",
        "pygame.quit()"
      ],
      "metadata": {
        "colab": {
          "base_uri": "https://localhost:8080/",
          "height": 236
        },
        "id": "SP971Lx6PFNy",
        "outputId": "8fe729e8-58f3-4c88-c005-a3c9ad7b2cee"
      },
      "execution_count": 6,
      "outputs": [
        {
          "output_type": "error",
          "ename": "error",
          "evalue": "ignored",
          "traceback": [
            "\u001b[0;31m---------------------------------------------------------------------------\u001b[0m",
            "\u001b[0;31merror\u001b[0m                                     Traceback (most recent call last)",
            "\u001b[0;32m<ipython-input-6-85202bbe98ef>\u001b[0m in \u001b[0;36m<cell line: 5>\u001b[0;34m()\u001b[0m\n\u001b[1;32m      3\u001b[0m \u001b[0;34m\u001b[0m\u001b[0m\n\u001b[1;32m      4\u001b[0m \u001b[0mpygame\u001b[0m\u001b[0;34m.\u001b[0m\u001b[0minit\u001b[0m\u001b[0;34m(\u001b[0m\u001b[0;34m)\u001b[0m\u001b[0;34m\u001b[0m\u001b[0;34m\u001b[0m\u001b[0m\n\u001b[0;32m----> 5\u001b[0;31m \u001b[0mpygame\u001b[0m\u001b[0;34m.\u001b[0m\u001b[0mdisplay\u001b[0m\u001b[0;34m.\u001b[0m\u001b[0minit\u001b[0m\u001b[0;34m(\u001b[0m\u001b[0;34m)\u001b[0m\u001b[0;34m\u001b[0m\u001b[0;34m\u001b[0m\u001b[0m\n\u001b[0m\u001b[1;32m      6\u001b[0m \u001b[0mprint\u001b[0m\u001b[0;34m(\u001b[0m\u001b[0mpygame\u001b[0m\u001b[0;34m.\u001b[0m\u001b[0mdisplay\u001b[0m\u001b[0;34m.\u001b[0m\u001b[0mlist_modes\u001b[0m\u001b[0;34m(\u001b[0m\u001b[0;34m)\u001b[0m\u001b[0;34m)\u001b[0m\u001b[0;34m\u001b[0m\u001b[0;34m\u001b[0m\u001b[0m\n\u001b[1;32m      7\u001b[0m \u001b[0mscreen\u001b[0m \u001b[0;34m=\u001b[0m \u001b[0mpygame\u001b[0m\u001b[0;34m.\u001b[0m\u001b[0mdisplay\u001b[0m\u001b[0;34m.\u001b[0m\u001b[0mset_mode\u001b[0m\u001b[0;34m(\u001b[0m\u001b[0;34m(\u001b[0m\u001b[0;36m400\u001b[0m\u001b[0;34m,\u001b[0m \u001b[0;36m400\u001b[0m\u001b[0;34m)\u001b[0m\u001b[0;34m)\u001b[0m\u001b[0;34m\u001b[0m\u001b[0;34m\u001b[0m\u001b[0m\n",
            "\u001b[0;31merror\u001b[0m: No available video device"
          ]
        }
      ]
    },
    {
      "cell_type": "markdown",
      "source": [],
      "metadata": {
        "id": "IPUW1KrGM0w7"
      }
    },
    {
      "cell_type": "code",
      "source": [
        "#TODO Predator class\n",
        "class Predator:\n",
        "  def __init__(self, position, velocity, percept)"
      ],
      "metadata": {
        "id": "YuQNmgU9Ni49"
      },
      "execution_count": null,
      "outputs": []
    },
    {
      "cell_type": "code",
      "source": [
        "#TODO Prey class"
      ],
      "metadata": {
        "id": "TizxQ3IoNnSK"
      },
      "execution_count": null,
      "outputs": []
    }
  ]
}