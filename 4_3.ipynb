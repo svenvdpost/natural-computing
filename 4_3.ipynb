{
 "cells": [
  {
   "cell_type": "code",
   "execution_count": null,
   "metadata": {},
   "outputs": [],
   "source": [
    "import matplotlib.pyplot as plt\n",
    "import random\n",
    "import math\n",
    "from itertools import permutations"
   ]
  },
  {
   "cell_type": "code",
   "execution_count": null,
   "metadata": {},
   "outputs": [],
   "source": [
    "class City:\n",
    "    ''' Class to encapsulate every city in the TSP '''\n",
    "\n",
    "    def __init__(self, x, y, name) -> None:\n",
    "        self.x = x\n",
    "        self.y  = y\n",
    "        self.name = name\n",
    "\n",
    "    def coordinates(self):\n",
    "        return self.x, self.y\n",
    "\n",
    "\n",
    "class TSPmap:\n",
    "    cities = {}\n",
    "\n",
    "    '''coordinates'''\n",
    "    def cities_x(self):\n",
    "        return list(map(lambda c: c.x, list(self.cities.values())))\n",
    "    \n",
    "    def cities_y(self):\n",
    "        return list(map(lambda c: c.y, list(self.cities.values())))\n",
    "    \n",
    "    '''distance'''\n",
    "    def city_distance(self, city1, city2):\n",
    "        return math.sqrt((city1.x - city2.x)**2 + (city1.y - city2.y)**2)\n",
    "    \n",
    "    def route_distance(self, route):\n",
    "        distance = 0\n",
    "        for (name1, name2) in zip(route, route[1:]):\n",
    "            distance += self.city_distance(self.cities[name1], self.cities[name2])\n",
    "        return distance\n",
    "\n",
    "    '''routes'''\n",
    "    def generate_route(self):\n",
    "        route = list(range(len(self.cities)))\n",
    "        random.shuffle(route)\n",
    "        return route\n",
    "    \n",
    "    def generate_routes(self, N):\n",
    "        return list(permutations(range(len(self.cities.values()))))[:N]\n",
    "    \n",
    "    def route_fitness(self, route):\n",
    "        return 1 / float(self.route_distance(route))\n",
    "\n",
    "    '''plotting'''\n",
    "    def plot_map(self):\n",
    "        fig = plt.figure()\n",
    "        plt.scatter(self.cities_x(), self.cities_y())\n",
    "        plt.show()\n",
    "\n",
    "    def plot_route(self, route):\n",
    "        for name1, name2 in zip(route, route[1:]):\n",
    "            x1, y1 = self.cities[name1].coordinates()\n",
    "            x2, y2 = self.cities[name2].coordinates()\n",
    "            plt.plot([x1, x2], [y1, y2], 'blue')\n",
    "        plt.show()\n",
    "\n",
    "    \n"
   ]
  },
  {
   "cell_type": "code",
   "execution_count": null,
   "metadata": {},
   "outputs": [],
   "source": [
    "tsp_map = TSPmap()\n",
    "\n",
    "with open('file-tsp.txt') as f:\n",
    "    name = 0\n",
    "    for line in f:\n",
    "        line = line.strip()\n",
    "        x = float(line[:7])\n",
    "        y = float(line[7:].strip())\n",
    "        tsp_map.cities[name] = City(x, y, str(name))\n",
    "        name +=1\n"
   ]
  },
  {
   "cell_type": "code",
   "execution_count": null,
   "metadata": {},
   "outputs": [],
   "source": [
    "tsp_map.plot_map()"
   ]
  },
  {
   "cell_type": "code",
   "execution_count": null,
   "metadata": {},
   "outputs": [],
   "source": [
    "route = tsp_map.generate_route()\n",
    "print(route)"
   ]
  },
  {
   "cell_type": "code",
   "execution_count": null,
   "metadata": {},
   "outputs": [],
   "source": [
    "\n",
    "route = tsp_map.generate_route()\n",
    "tsp_map.plot_route(route)\n",
    "tsp_map.route_fitness(route)"
   ]
  },
  {
   "cell_type": "code",
   "execution_count": null,
   "metadata": {},
   "outputs": [],
   "source": [
    "N = 500\n",
    "L = 50\n",
    "#list(permutations(list(range(L))))[:N]"
   ]
  }
 ],
 "metadata": {
  "kernelspec": {
   "display_name": "Python 3",
   "language": "python",
   "name": "python3"
  },
  "language_info": {
   "codemirror_mode": {
    "name": "ipython",
    "version": 3
   },
   "file_extension": ".py",
   "mimetype": "text/x-python",
   "name": "python",
   "nbconvert_exporter": "python",
   "pygments_lexer": "ipython3",
   "version": "3.9.1"
  },
  "orig_nbformat": 4
 },
 "nbformat": 4,
 "nbformat_minor": 2
}
