{
  "nbformat": 4,
  "nbformat_minor": 0,
  "metadata": {
    "colab": {
      "provenance": []
    },
    "kernelspec": {
      "name": "python3",
      "display_name": "Python 3"
    },
    "language_info": {
      "name": "python"
    }
  },
  "cells": [
    {
      "cell_type": "code",
      "source": [
        "#Import relevant libraries and functions\n",
        "from sklearn.metrics import roc_curve, roc_auc_score\n",
        "from sklearn import metrics\n",
        "import matplotlib.pyplot as plt\n",
        "from matplotlib import cm\n",
        "from matplotlib.ticker import LinearLocator\n",
        "import pandas as pd\n",
        "import numpy as np\n",
        "\n",
        "# Clear workspace\n",
        "!rm -rf result_figs\n",
        "!rm result_figs.zip\n",
        "!mkdir result_figs"
      ],
      "metadata": {
        "id": "iDYe7CBRRUnG",
        "colab": {
          "base_uri": "https://localhost:8080/"
        },
        "outputId": "df6e6152-8e44-40ce-f859-dcd40a09ed6c"
      },
      "execution_count": 7,
      "outputs": [
        {
          "output_type": "stream",
          "name": "stdout",
          "text": [
            "rm: cannot remove 'result_figs.zip': No such file or directory\n"
          ]
        }
      ]
    },
    {
      "cell_type": "markdown",
      "source": [
        "###Exercise 1: Using the Negative Selection Algorithm"
      ],
      "metadata": {
        "id": "s8udWPTrLI1n"
      }
    },
    {
      "cell_type": "code",
      "source": [
        "# Specify the input\n",
        "input = 'english_hiligayon'\n",
        "\n",
        "# Read the csv file\n",
        "df = pd.read_csv('output.csv')\n",
        "\n",
        "# Encode labels (target = 0; anomalous = 1)\n",
        "labels = np.array(df.iloc[:,2])\n",
        "for i in range(len(labels)):\n",
        "  labels[i] = 0 if labels[i] == ' english.test' else 1\n",
        "\n",
        "# Extract and preprocess data\n",
        "r = np.array(df.iloc[:,3])\n",
        "r_values = np.unique(r)\n",
        "num_values = np.where(r==r_values[0])\n",
        "\n",
        "anomaly_scores = np.reshape(np.array(df.iloc[:,1]), (len(r_values), len(num_values[0])))\n",
        "labels = np.reshape(labels, (len(r_values), len(num_values[0])))\n",
        "\n",
        "# Specify figure features\n",
        "image_format = 'svg'\n",
        "figs, axs = plt.subplots(1, len(r_values), figsize = (6*len(r_values),5))\n",
        "idx = 0\n",
        "AUCs = []\n",
        "\n",
        "# Plot Receiver Operating Characteristic for different r values\n",
        "for value in r_values:\n",
        "  title = \"Receiver Operating Characteristic for r = {f}\".format(f=value)\n",
        "\n",
        "  # Compute relevant metrics\n",
        "  specitifity, sensitivity,_ = metrics.roc_curve(labels[idx,:].astype(int), anomaly_scores[idx,:])\n",
        "  AUC = round(metrics.roc_auc_score(labels[idx,:].astype(int), anomaly_scores[idx,:]),5)\n",
        "  AUCs.append(AUC)\n",
        "\n",
        "  # Individual figures\n",
        "  image_name = 'result_figs/' + input + '_r' + value.astype(str) + '.' + image_format \n",
        "  fig, ax = plt.subplots(1, figsize=(4,4))\n",
        "  plt.title(title)\n",
        "  plt.plot( specitifity, sensitivity)\n",
        "  plt.plot([0, 1], ls=\"--\")\n",
        "  plt.plot([0, 0], [1, 0] , c=\".7\"), plt.plot([1, 1] , c=\".7\")\n",
        "  plt.text(0.2, 0, r\"AUC=\"+str(AUC), fontsize=15)\n",
        "  plt.ylabel('sensitivity')\n",
        "  plt.xlabel('1 - specitifity')\n",
        "  \n",
        "  # Composite figure\n",
        "  composite_image_name = 'result_figs/All_' + input + '.' + image_format\n",
        "  axs[idx].set_title(title)\n",
        "  axs[idx].plot( specitifity, sensitivity, label=\"AUC=\"+str(AUC))\n",
        "  axs[idx].plot([0, 1], ls=\"--\")\n",
        "  axs[idx].plot([0, 0], [1, 0] , c=\".7\"), plt.plot([1, 1] , c=\".7\")\n",
        "  axs[idx].set_ylabel('sensitivity')\n",
        "  axs[idx].set_xlabel('1 - specitifity')\n",
        "  axs[idx].text(0.3, 0, r\"AUC=\"+str(AUC), fontsize=15)\n",
        "\n",
        "  fig.savefig(image_name, format = image_format, dpi=1200)\n",
        "  idx+=1\n",
        "\n",
        "# Print the average AUC over all different r values\n",
        "print(\"Average AUC over all r values ranging from 1 to 9: {}\".format(round(np.mean(AUCs),5)))\n",
        "\n",
        "# Save and zip the figures\n",
        "figs.savefig(composite_image_name, format = image_format, dpi=1200)\n",
        "!zip -r /content/result_figs.zip /content/result_figs"
      ],
      "metadata": {
        "id": "ZkEA4u8ILEjx"
      },
      "execution_count": null,
      "outputs": []
    },
    {
      "cell_type": "markdown",
      "source": [
        "###Exercise 2: Intrusion Detection for Unix Processes"
      ],
      "metadata": {
        "id": "IFiT99VnLV9F"
      }
    },
    {
      "cell_type": "code",
      "source": [
        "# Read the csv file\n",
        "df = pd.read_csv('snd-unm.csv')\n",
        "\n",
        "# Extract and preprocess data\n",
        "r = np.array(df.iloc[:,3])\n",
        "r_values = np.unique(r)\n",
        "n = np.array(df.iloc[:,4])\n",
        "n_values = np.unique(n)\n",
        "\n",
        "num_elem_per_param_set = int((len(r)/len(r_values))/len(n_values)) \n",
        "\n",
        "anomaly_scores = np.reshape(np.array(df.iloc[:,1]), (len(n_values), len(r_values), num_elem_per_param_set))\n",
        "labels = np.reshape(np.array(df.iloc[:,2]), (len(n_values), len(r_values), num_elem_per_param_set))\n",
        "\n",
        "\n",
        "# Initialize variables\n",
        "AUCs = []\n",
        "n_idx = 0\n",
        "AUCs = np.zeros((len(n_values),len(r_values)))\n",
        "\n",
        "# Compute the AUCs for all parameter combinations\n",
        "for n_value in n_values:\n",
        "  r_idx = 0\n",
        "  for r_value in r_values:\n",
        "    AUC = metrics.roc_auc_score(labels[:][n_idx][r_idx], anomaly_scores[:][n_idx][r_idx])\n",
        "    AUCs[n_idx][r_idx] = AUC\n",
        "    r_idx += 1\n",
        "  n_idx +=1\n",
        "    \n",
        "# Find the best performing parameter set \n",
        "optimal_param = np.where(AUCs == np.max(AUCs))\n",
        "optimal_n_value = n_values[optimal_param[0]][0]\n",
        "optimal_r_value = r_values[optimal_param[1]][0]\n",
        "\n",
        "print('r = {} and n = {} gave the highest AUC of: {}'.format(optimal_r_value,optimal_n_value,np.max(AUCs)))"
      ],
      "metadata": {
        "colab": {
          "base_uri": "https://localhost:8080/"
        },
        "id": "8gGm_ZyNK_mf",
        "outputId": "5b21e98c-68d0-4caf-e4fe-12aa4f895aa0"
      },
      "execution_count": 11,
      "outputs": [
        {
          "output_type": "stream",
          "name": "stdout",
          "text": [
            "r = 4 and n = 8 gave the highest AUC of: 0.9331763440860215\n"
          ]
        }
      ]
    },
    {
      "cell_type": "code",
      "source": [
        "# Indicate chunk-merging method\n",
        "merging = 'max'\n",
        "\n",
        "# Specify figure features\n",
        "image_format = 'svg'\n",
        "image_name = merging + '_AUC_surface_plot.' + image_format\n",
        "\n",
        "fig, ax = plt.subplots(subplot_kw={\"projection\": \"3d\"}, figsize=(12, 12))\n",
        "\n",
        "# Compute the r-n grid\n",
        "X, Y = np.meshgrid(r_values, n_values)\n",
        "\n",
        "# Plot the surface.\n",
        "surf = ax.plot_surface(X, Y, AUCs, cmap = cm.coolwarm, edgecolor='k', lw=0.5, antialiased=False, rstride = 1, cstride = 1, alpha = 0.5) # rstride = 8, cstride = 8, cmap=cm.coolwarm,\n",
        "\n",
        "cset = ax.contour(X, Y, AUCs, zdir ='z', offset = 0.5, cmap = cm.coolwarm)\n",
        "cset = ax.contour(X, Y, AUCs, zdir ='x', offset = np.min(r_values)-1, cmap = cm.coolwarm)\n",
        "cset = ax.contour(X, Y, AUCs, zdir ='y', offset =  np.max(n_values)+1, cmap = cm.coolwarm)\n",
        "\n",
        "# calc index of min/max Z value\n",
        "xmax, ymax = np.unravel_index(np.argmax(AUCs), AUCs.shape)\n",
        "\n",
        "# max points in 3D space (x,y,z)\n",
        "max = (X[xmax, ymax], Y[xmax, ymax], AUCs.max())\n",
        "\n",
        "A_max = np.array([max]*4)\n",
        "for i, v in enumerate([np.min(r_values)-1,np.max(n_values)+1,0.5]):\n",
        "    A_max[i,i] = v \n",
        "\n",
        "#plot max point\n",
        "ax.plot(A_max[:,0], A_max[:,1], A_max[:,2], marker=\"o\", ls=\"\", c=cm.coolwarm(1.))\n",
        "\n",
        "# Customize plot\n",
        "ax.set_zlim(0.5, 1)\n",
        "ax.set_xlim(np.min(r_values)-1, np.max(r_values)+1)\n",
        "ax.set_ylim(np.min(n_values)-1, np.max(n_values)+1)\n",
        "\n",
        "ax.zaxis.set_major_locator(LinearLocator(10))\n",
        "ax.zaxis.set_major_formatter('{x:.02f}')\n",
        "\n",
        "ax.set_xticks(r_values, fontsize=20)\n",
        "ax.set_yticks(n_values, fontsize=20)\n",
        "ax.set_xlabel('r value', fontsize=20)\n",
        "ax.set_ylabel('n value', fontsize=20)\n",
        "ax.set_zlabel('AUC', fontsize=20)\n",
        "ax.set_title('AUC surface plot for ' + merging + '-chunking', fontsize=25)\n",
        "\n",
        "fig.colorbar(surf, ax = ax, shrink=0.5, aspect=5)\n",
        "\n",
        "plt.show()\n",
        "\n",
        "# Save the image\n",
        "fig.savefig(image_name, format = image_format, dpi=1200)"
      ],
      "metadata": {
        "id": "ZfeL7CocZcvk"
      },
      "execution_count": null,
      "outputs": []
    },
    {
      "cell_type": "code",
      "source": [
        "# Compute relevant metrics\n",
        "specitifity, sensitivity,_ = metrics.roc_curve(labels[:][optimal_param[0][0]][optimal_param[1][0]], anomaly_scores[:][optimal_param[0][0]][optimal_param[1][0]])\n",
        "max_AUC = round(metrics.roc_auc_score(labels[:][optimal_param[0][0]][optimal_param[1][0]], anomaly_scores[:][optimal_param[0][0]][optimal_param[1][0]]),5)\n",
        "\n",
        "# Plot the ROC for the best performing parameter set\n",
        "image_name = merging + '_ROC.' + image_format\n",
        "fig, ax = plt.subplots(1, figsize=(12,12))\n",
        "plt.title('ROC for r = {} and n = {}'.format(optimal_r_value, optimal_n_value), fontsize=25)\n",
        "plt.plot( specitifity, sensitivity)\n",
        "plt.plot([0, 1], ls=\"--\")\n",
        "plt.plot([0, 0], [1, 0] , c=\".7\"), plt.plot([1, 1] , c=\".7\")\n",
        "plt.text(0.2, 0, r\"AUC=\"+str(max_AUC), fontsize=25)\n",
        "plt.ylabel('sensitivity', fontsize=20)\n",
        "plt.xlabel('1 - specitifity', fontsize=20)\n",
        "plt.xticks(fontsize = 20)\n",
        "plt.yticks(fontsize = 20)\n",
        "\n",
        "# Save the image\n",
        "fig.savefig(image_name, format = image_format, dpi=1200)"
      ],
      "metadata": {
        "id": "Hy2_VQQMPh05"
      },
      "execution_count": null,
      "outputs": []
    }
  ]
}